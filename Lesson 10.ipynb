{
 "cells": [
  {
   "cell_type": "markdown",
   "metadata": {},
   "source": [
    "## Урок 10. Интеграл. Ряды. Часть 1"
   ]
  },
  {
   "cell_type": "markdown",
   "metadata": {},
   "source": [
    "#### 1. Исследовать ряд на сходимость, используя признак д’Аламбера: $\\sum_{n=1}^{\\infty} \\frac{n^{n}}{n !^{2}}$"
   ]
  },
  {
   "cell_type": "markdown",
   "metadata": {},
   "source": [
    "$\\lim _{n \\rightarrow \\infty} \\frac{a_{n+1}}{a_{n}}=\\lim _{n \\rightarrow \\infty} \\frac{(n+1)^{n+1}}{(n+1) !^{2}} \\cdot \\frac{n !^{2}}{n^{n}}=\\lim _{n \\rightarrow \\infty} \\frac{(n+1)^{n+1}}{(n+1)^{2} \\cdot n^{n}}=\\lim _{n \\rightarrow \\infty} \\frac{(n+1)^{n}}{n^{n}} \\cdot \\frac{1}{n+1}=\\lim _{n \\rightarrow \\infty}\\left(1+\\frac{1}{n}\\right)^{n} \\cdot \\frac{1}{n+1}=e \\cdot \\lim _{n \\rightarrow \\infty} \\frac{1}{n+1}=e \\cdot 0=0 < 1\\Rightarrow $ \n",
    "\n",
    "$\\Rightarrow$ ряд сходится по признаку д’Аламбера. "
   ]
  },
  {
   "cell_type": "markdown",
   "metadata": {},
   "source": [
    "#### 3. Исследовать ряд на сходимость, используя признак Лейбница: $\\sum_{n=1}^{\\infty} \\frac{(-1)^{n}}{n+\\ln n}$"
   ]
  },
  {
   "cell_type": "markdown",
   "metadata": {},
   "source": [
    "$\\left.\\begin{array}{l}{\\frac{1}{n+\\ln n}>\\frac{1}{n+1+\\ln (n+1)}\\Leftrightarrow \\left|a_{n}\\right| > \\left|a_{n+1}\\right|} \\\\ {\\lim _{n \\rightarrow \\infty} a_{n}=\\lim _{n \\rightarrow \\infty} \\frac{(-1)^{n}}{n+\\ln n}=0}\\end{array}\\right\\} \\Rightarrow $ ряд сходится по признаку Лейбница."
   ]
  },
  {
   "cell_type": "markdown",
   "metadata": {},
   "source": [
    "#### 4. Исследовать ряд на сходимость, используя признак Раабе: $\\sum_{n=1}^{\\infty} \\frac{3^{n}}{2^{n}}$"
   ]
  },
  {
   "cell_type": "markdown",
   "metadata": {},
   "source": [
    "$\\displaystyle R_n = n\\left(\\frac{a_{n}}{a_{n+1}} - 1\\right) = n\\left(\\frac{3^{n} \\cdot 2^{n+1}}{2^{n} \\cdot 3^{n+1}} - 1\\right) = n\\left(\\frac{2}{3} - 1\\right) = -\\frac{n}{3}$"
   ]
  },
  {
   "cell_type": "markdown",
   "metadata": {},
   "source": [
    "$\\displaystyle \\lim_{n \\rightarrow \\infty} R_n= \\lim_{n \\rightarrow \\infty} -\\frac{n}{3} > 1 \\Rightarrow$ ряд сходится по признаку Раабе в предельной форме."
   ]
  },
  {
   "cell_type": "markdown",
   "metadata": {},
   "source": [
    "### Задание из коллаба"
   ]
  },
  {
   "cell_type": "markdown",
   "metadata": {},
   "source": [
    "#### 1. Вычислить неопределенный интеграл $\\int \\frac{2x+3}{(x-2)(x+5)}\\,dx$"
   ]
  },
  {
   "cell_type": "markdown",
   "metadata": {},
   "source": [
    "$ \\begin{array}{l}\n",
    "\\frac{{2x + 3}}{{(x - 2)(x + 5)}}\\, = \\,\\frac{A}{{x - 2}} + \\frac{B}{{x + 5}} = \\frac{{A(x + 5) + B(x - 2)}}{{(x - 2)(x + 5)}} = \\\\\n",
    "2x + 3 = A(x + 5) + B(x - 2) = Ax + 5 \\cdot A + Bx - 2 \\cdot B = \\left( {A + B} \\right)x + \\left( {5 \\cdot A - 2 \\cdot B} \\right)\\\\\n",
    "\\left\\{ \\begin{array}{l}\n",
    "5 \\cdot A - 2 \\cdot B = 3\\\\\n",
    "A + B = 2\n",
    "\\end{array} \\right. \\Rightarrow \\left\\{ \\begin{array}{l}\n",
    "5 \\cdot \\left( {2 - B} \\right) - 2 \\cdot B = 3\\\\\n",
    "A = 2 - B\n",
    "\\end{array} \\right. \\Rightarrow \\left\\{ \\begin{array}{l}\n",
    "B = 1\\\\\n",
    "A = 1\n",
    "\\end{array} \\right.\\\\\n",
    "\\frac{{2x + 3}}{{(x - 2)(x + 5)}}\\, = \\frac{1}{{x - 2}} + \\frac{1}{{x + 5}}\\\\\n",
    "\\int {\\frac{{2x + 3}}{{(x - 2)(x + 5)}}} {\\mkern 1mu} dx = \\int {\\frac{1}{{x - 2}}} {\\mkern 1mu} dx + \\int {\\frac{1}{{x + 5}}} {\\mkern 1mu} dx\\\\\n",
    "\\int {\\frac{1}{{x - 2}}} {\\mkern 1mu} dx = \\int {\\frac{1}{t}} {\\mkern 1mu} dt = \\ln \\left| t \\right| + C = \\ln \\left| {x - 2} \\right| + C\\\\\n",
    "t = x - 2,\\,dt = dx\\\\\n",
    "\\int {\\frac{1}{{x + 5}}} {\\mkern 1mu} dx\\int {\\frac{1}{t}} {\\mkern 1mu} dt = \\ln \\left| t \\right| + C = \\ln \\left| {x + 5} \\right| + C\\\\\n",
    "t = x + 5,\\,dt = dx\\\\\n",
    "\\int {\\frac{{2x + 3}}{{(x - 2)(x + 5)}}} {\\mkern 1mu} dx = \\int {\\frac{1}{{x - 2}}} {\\mkern 1mu} dx + \\int {\\frac{1}{{x + 5}}} {\\mkern 1mu} dx = \\ln \\left| {x - 2} \\right| + \\ln \\left| {x + 5} \\right| + C\n",
    "\\end{array} $"
   ]
  },
  {
   "cell_type": "markdown",
   "metadata": {},
   "source": [
    "#### 4. Вычислить несобственный интеграл $\\int\\limits_2^{+\\infty} \\frac{dx}{x^2+x-2}$"
   ]
  },
  {
   "cell_type": "markdown",
   "metadata": {},
   "source": [
    "$\\begin{array}{l}\n",
    "\\int\\limits_2^{ + \\infty } {\\frac{{dx}}{{{x^2} + x - 2}}}  =  - \\mathop {\\lim }\\limits_{b \\to  + \\infty } \\int\\limits_2^b {\\frac{{dx}}{{{{\\left( {\\frac{3}{2}} \\right)}^2} - {{\\left( {x + \\frac{1}{2}} \\right)}^2}}}}  =  - \\mathop {\\lim }\\limits_{b \\to  + \\infty } \\left. {\\frac{1}{{2 \\cdot \\left( {\\frac{3}{2}} \\right)}} \\cdot \\ln \\left| {\\frac{{\\frac{3}{2} + x + \\frac{1}{2}}}{{\\frac{3}{2} - x - \\frac{1}{2}}}} \\right|} \\right|_2^b =  - \\mathop {\\lim }\\limits_{b \\to  + \\infty } \\left. {\\frac{1}{3} \\cdot \\ln \\left| {\\frac{{x + 2}}{{x - 1}}} \\right|} \\right|_2^b = \\\\\n",
    " =  - \\frac{1}{3}\\mathop {\\lim }\\limits_{b \\to  + \\infty } \\left. {\\ln \\left| {\\frac{{b + 2}}{{b - 1}}} \\right|} \\right| + \\frac{1}{3} \\cdot \\ln \\left| 4 \\right| = 0 + \\frac{1}{3} \\cdot \\ln \\left| 4 \\right| = \\frac{{\\ln \\left( 4 \\right)}}{3}\\\\\n",
    "\\mathop {\\lim }\\limits_{b \\to  + \\infty } \\left. {\\ln \\left| {\\frac{{b + 2}}{{b - 1}}} \\right|} \\right| = \\mathop {\\lim }\\limits_{b \\to  + \\infty } \\left. {\\ln \\left( {1 - \\frac{3}{{b - 1}}} \\right)} \\right| = \\mathop {\\lim }\\limits_{b \\to  + \\infty } \\left. {\\ln \\left( {1 - 0} \\right)} \\right| = \\ln \\left( 1 \\right) = 0\n",
    "\\end{array}$"
   ]
  },
  {
   "cell_type": "markdown",
   "metadata": {},
   "source": [
    "#### 5. Вычислить несобственный интеграл $\\int\\limits_0^{1} \\ln x\\,dx$"
   ]
  },
  {
   "cell_type": "markdown",
   "metadata": {},
   "source": [
    "$\\begin{array}{l}\n",
    "\\int\\limits_0^1 {\\ln \\left( x \\right)} {\\mkern 1mu} dx = \\mathop {\\lim }\\limits_{\\varepsilon  \\to 0} \\int\\limits_{0 + \\varepsilon }^1 {\\ln \\left( x \\right)} {\\mkern 1mu} dx = \\mathop {\\lim }\\limits_{\\varepsilon  \\to 0} \\left( {\\left. {x \\cdot \\ln \\left( x \\right)} \\right|_{0 + \\varepsilon }^1 - \\int\\limits_{0 + \\varepsilon }^1 {\\,\\frac{1}{x}x} {\\mkern 1mu} dx} \\right) = 1 \\cdot \\left( {\\ln \\left( 1 \\right) - 1} \\right) - \\mathop {\\lim }\\limits_{\\varepsilon  \\to 0} \\left( {\\varepsilon  \\cdot \\left( {\\ln \\left( \\varepsilon  \\right) - 1} \\right)} \\right) =  - 1 - 0 =  - 1\\\\\n",
    "U = \\ln \\left( x \\right)\\, \\Rightarrow \\,dU\\, = \\,\\frac{1}{x}\\\\\n",
    "dV = 1\\, \\Rightarrow \\,V\\, = \\,x\n",
    "\\end{array}$"
   ]
  }
 ],
 "metadata": {
  "kernelspec": {
   "display_name": "Python 3",
   "language": "python",
   "name": "python3"
  },
  "language_info": {
   "codemirror_mode": {
    "name": "ipython",
    "version": 3
   },
   "file_extension": ".py",
   "mimetype": "text/x-python",
   "name": "python",
   "nbconvert_exporter": "python",
   "pygments_lexer": "ipython3",
   "version": "3.9.1"
  }
 },
 "nbformat": 4,
 "nbformat_minor": 2
}
