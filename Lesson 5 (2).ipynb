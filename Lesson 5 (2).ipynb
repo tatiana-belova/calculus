{
 "cells": [
  {
   "cell_type": "code",
   "execution_count": 1,
   "metadata": {},
   "outputs": [],
   "source": [
    "import warnings\n",
    "\n",
    "warnings.filterwarnings('ignore')"
   ]
  },
  {
   "cell_type": "markdown",
   "metadata": {},
   "source": [
    "### Тема “Предел функции”"
   ]
  },
  {
   "cell_type": "markdown",
   "metadata": {},
   "source": [
    "4. Найти предел:"
   ]
  },
  {
   "cell_type": "markdown",
   "metadata": {},
   "source": [
    "$$c. \\,\\,\\,\\,\\lim_{x\\to \\infty} \\Bigr(\\frac{x+3}{x}\\Bigl)^{4x+1} = \\lim_{x\\to \\infty} e^ {\\Bigr(\\frac{x+3}{x} - 1\\Bigl) (4x+1)} = \\lim_{x\\to \\infty} e^ {\\frac{x}{3} (4x+1)} = \\lim_{x\\to \\infty} e^ {\\frac{12x+3}{x}} = \\lim_{x\\to \\infty} e^ {12 + \\frac{1}{x}} = e^{12}$$"
   ]
  },
  {
   "cell_type": "markdown",
   "metadata": {},
   "source": [
    "### Тема “Теоремы о пределах”"
   ]
  },
  {
   "cell_type": "markdown",
   "metadata": {},
   "source": [
    "1. Найти предел:"
   ]
  },
  {
   "cell_type": "markdown",
   "metadata": {},
   "source": [
    "$$c. \\displaystyle \\lim_{x\\to0} \\frac{x}{\\arcsin(x)} = |t=\\sin(x)| = \\displaystyle \\lim_{x\\to0} \\frac{\\sin(t)}{t} = \\displaystyle \\lim_{x\\to0} \\frac{\\frac{\\sin(t)}{t}}{1} = \\frac{1}{1} = 1$$"
   ]
  },
  {
   "cell_type": "markdown",
   "metadata": {},
   "source": [
    "$$d.\\,\\,\\,\\,\\lim_{x\\to \\infty} \\Bigl(\\frac{4x+3}{4x-3}\\Bigr)^{6x} = \\lim_{x\\to \\infty} e^{(\\frac{4x+3}{4x-3}-1)6x} = \\lim_{x\\to \\infty} e^{\\frac{(4x+3-4x+3)6x}{4x-3}} = \\lim_{x\\to \\infty} e^{\\frac{36x}{4x-3}} = e^9$$"
   ]
  },
  {
   "cell_type": "markdown",
   "metadata": {},
   "source": [
    "$$e. \\lim\\limits_{x \\to \\infty} \\frac{sin(x) + ln(x)}{x} = \\lim\\limits_{x \\to \\infty} \\frac{sin(x)}{x} + \\lim\\limits_{x \\to \\infty} \\frac{ln(x)}{x} = 0 + 0 = 0$$"
   ]
  },
  {
   "cell_type": "markdown",
   "metadata": {},
   "source": [
    "### Тема 6 “Понятие о производной”"
   ]
  },
  {
   "cell_type": "markdown",
   "metadata": {},
   "source": [
    "1. Найти производную выражения:"
   ]
  },
  {
   "cell_type": "markdown",
   "metadata": {},
   "source": [
    "$$a. \\,\\,\\,\\,(sin x * cos x)^{\\prime} = sin x^{\\prime} cos(x) + cos x^{\\prime} sin x = cos^2x - sin^2x = cos2x$$"
   ]
  },
  {
   "cell_type": "markdown",
   "metadata": {},
   "source": [
    "$$b. \\,\\,\\,\\,(ln(2x+1)^3)' = \\frac{1 \\cdot 3 \\cdot(2x + 1)^2 \\cdot 2}{(2x + 1)^3} = \\frac{6}{2x+1}$$"
   ]
  },
  {
   "cell_type": "markdown",
   "metadata": {},
   "source": [
    "$$d. \\,\\,\\,\\Bigl(\\frac{x^4}{ln(x)}\\Bigr)' = \\frac{4x^3 ln(x)-x^3}{ln^2(x)}$$"
   ]
  }
 ],
 "metadata": {
  "kernelspec": {
   "display_name": "Python 3",
   "language": "python",
   "name": "python3"
  },
  "language_info": {
   "codemirror_mode": {
    "name": "ipython",
    "version": 3
   },
   "file_extension": ".py",
   "mimetype": "text/x-python",
   "name": "python",
   "nbconvert_exporter": "python",
   "pygments_lexer": "ipython3",
   "version": "3.9.1"
  }
 },
 "nbformat": 4,
 "nbformat_minor": 2
}
