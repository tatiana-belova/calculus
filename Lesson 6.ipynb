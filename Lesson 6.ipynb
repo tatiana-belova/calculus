{
 "cells": [
  {
   "cell_type": "markdown",
   "metadata": {},
   "source": [
    "## Тема 6 “Понятие о производной”"
   ]
  },
  {
   "cell_type": "markdown",
   "metadata": {},
   "source": [
    "1. Найти производную выражения: c)"
   ]
  },
  {
   "cell_type": "markdown",
   "metadata": {},
   "source": [
    "$$ \\,\\,\\,\\Bigr(\\sqrt {sin^2(ln(x^3))}\\Bigl)' = \\frac{(sin^2(3 log(x)))'}{2 \\sqrt{(sin^2(3 log(x))}} =  \\frac{(((sin(3 log(x)))') \\cdot sin(3 log(x)))} {\\sqrt{(sin^2(3 log(x)))}} = cos(3 log(x)) \\cdot ((3 log(x))') \\cdot \\frac {sin(3 log(x))}{\\sqrt{(sin^2(3 log(x)))}} = 3 ((log(x))') \\cdot  \\frac {(cos(3 log(x)) \\cdot sin(3 log(x)))}{\\sqrt{(sin^2(3 log(x)))}} = \\frac {(x)'}{x} \\cdot \\frac {(3 cos(3 log(x)) \\cdot sin(3 log(x)))}{\\sqrt{(sin^2(3 log(x)))}} = 1 \\cdot \\frac {(3 cos(3 log(x)) \\cdot sin(3 log(x)))}{\\sqrt{(sin^2(3 log(x)))}} = \\frac{(3 cot(3 log(x)) \\sqrt{(sin^2(3 log(x))))}}{x}\n",
    " $$"
   ]
  },
  {
   "cell_type": "markdown",
   "metadata": {},
   "source": [
    "2. Найти выражение производной функции и ее значение в точке:"
   ]
  },
  {
   "cell_type": "markdown",
   "metadata": {},
   "source": [
    "$$ f(x) = cos (x^2 +3x) , x_0 = \\sqrt{\\pi} $$"
   ]
  },
  {
   "cell_type": "markdown",
   "metadata": {},
   "source": [
    "$$ f'(x) = - sin (x^2+ 3x) \\cdot (2x + 3) $$"
   ]
  },
  {
   "cell_type": "markdown",
   "metadata": {},
   "source": [
    "$$f'(x_0) = - sin (\\sqrt{\\pi}^2+ 3\\sqrt{\\pi}) \\cdot (2\\sqrt{\\pi} + 3) = (3 + 2 \\sqrt{\\pi}) sin(3 \\sqrt{\\pi}))$$"
   ]
  },
  {
   "cell_type": "markdown",
   "metadata": {},
   "source": [
    "$$ при  \\pi  \\approx 3,14 $$\n",
    "\n",
    "$$f'(x_0) = (3 + 2 \\sqrt{3,14}) sin(3 \\sqrt{3,14})) \\approx -5.38 $$"
   ]
  },
  {
   "cell_type": "markdown",
   "metadata": {},
   "source": [
    "3. Найти значение производной функции в точке:"
   ]
  },
  {
   "cell_type": "markdown",
   "metadata": {},
   "source": [
    "$$ f(x) = \\frac{x^3 - x^2 - x - 1}{1 + 2x + 3x^2 - 4x^3},  x_0 = 0 $$"
   ]
  },
  {
   "cell_type": "markdown",
   "metadata": {},
   "source": [
    "$$ f'(x) = \\frac {(3x^2-2x-1)(1+2x+3x^2-4x^3) - (2+6x-12x^2)(x^3 - x^2 - x - 1)}{(1 + 2x + 3x^2 - 4x^3)^2} , x_0 = 0 $$"
   ]
  },
  {
   "cell_type": "markdown",
   "metadata": {},
   "source": [
    "$$ f'(0) = \\frac {-1 \\cdot 1 - 2 \\cdot (-1)}{1} = 1 $$"
   ]
  },
  {
   "cell_type": "markdown",
   "metadata": {},
   "source": [
    "4. Найти угол наклона касательной к графику функции в точке:"
   ]
  },
  {
   "cell_type": "markdown",
   "metadata": {},
   "source": [
    "$$ f(x) = \\sqrt {3x} \\cdot ln x, x_0 = 1 $$"
   ]
  },
  {
   "cell_type": "markdown",
   "metadata": {},
   "source": [
    "$$f(x) = \\sqrt{3x} \\cdot ln(x) = \\sqrt{3} \\cdot \\sqrt{x} \\cdot ln(x)$$"
   ]
  },
  {
   "cell_type": "markdown",
   "metadata": {},
   "source": [
    "$$f^{\\prime}(x) = \\sqrt{3} \\cdot \\left( \\sqrt{x} \\cdot ln(x) \\right)^{\\prime} = \\sqrt{3} \\cdot \\left( \\frac{1}{2\\sqrt{x}} \\cdot ln(x) + \\sqrt{x} \\cdot \\frac{1}{x} \\right) = \\sqrt{3} \\cdot \\left( \\frac{ln(x)}{2\\sqrt{x}} + \\frac{1}{\\sqrt{x}} \\right)$$"
   ]
  },
  {
   "cell_type": "markdown",
   "metadata": {},
   "source": [
    "$$f^{\\prime}(1)= \\sqrt{3} \\cdot \\left( \\frac{ln(1)}{2\\sqrt{1}} + \\frac{1}{\\sqrt{1}} \\right) = \\sqrt{3} \\cdot \\left(\\frac{0}{2} + 1 \\right) = \\sqrt3$$"
   ]
  },
  {
   "cell_type": "markdown",
   "metadata": {},
   "source": [
    "$$tg\\alpha = \\sqrt{3},\\,\\,\\, \\Rightarrow \\alpha = 60º $$"
   ]
  }
 ],
 "metadata": {
  "kernelspec": {
   "display_name": "Python 3",
   "language": "python",
   "name": "python3"
  },
  "language_info": {
   "codemirror_mode": {
    "name": "ipython",
    "version": 3
   },
   "file_extension": ".py",
   "mimetype": "text/x-python",
   "name": "python",
   "nbconvert_exporter": "python",
   "pygments_lexer": "ipython3",
   "version": "3.9.1"
  }
 },
 "nbformat": 4,
 "nbformat_minor": 2
}
