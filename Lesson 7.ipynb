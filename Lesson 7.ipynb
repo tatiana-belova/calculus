{
 "cells": [
  {
   "cell_type": "markdown",
   "metadata": {},
   "source": [
    "### Задание из методички"
   ]
  },
  {
   "cell_type": "markdown",
   "metadata": {},
   "source": [
    "1. Найти производную $y'_{x}$ функции:\n",
    "\n",
    "$$\\mbox{arctg}\\Bigr(\\frac{y}{x}\\Bigl)=\\ln \\sqrt{x^2+y^2}$$\n",
    "\n",
    "\n",
    "$$\\frac{1}{1+\\Bigr(\\frac{y}{x}\\Bigl)^2}\\cdot \\frac{y'\\cdot x-y\\cdot 1}{x^2} =\\frac{1}{2}\\cdot \\frac{1}{x^2+y^2} \\cdot (2x+2y\\cdot y')$$\n",
    "\n",
    "$$\\frac{y'\\cdot x-y\\cdot 1}{x^2+y^2}=\\frac{1}{2}\\cdot \\frac{2x+2y\\cdot y'}{x^2+y^2}$$\n",
    "\n",
    "$$2x\\cdot y'-2y=2x+2y\\cdot y'$$\n",
    "\n",
    "$$(2x-2y)\\cdot y'=2x+2y$$\n",
    "\n",
    "$$y'=\\frac{x+y}{x-y}$$"
   ]
  },
  {
   "cell_type": "markdown",
   "metadata": {},
   "source": [
    "2. Найти производную $y'_{x}$ функции:\n",
    "\n",
    "$$\\begin{cases}\n",
    "y=\\frac{t^2}{t-1},\\\\\n",
    "x=\\frac{t}{t^2-1} \n",
    "\\end{cases}$$ \n",
    " \n",
    "$$\\begin{cases}\n",
    "   y'_{t}=\\frac{2t\\cdot (t-1)-t^2\\cdot1}{(t-1)^2}, \\\\\n",
    "   x_{t}=\\frac{1\\cdot(t^2-1)-t\\cdot2t}{(t^2-1)^2} \n",
    " \\end{cases}\\Rightarrow\n",
    " \\begin{cases}\n",
    "   y'_{t}=\\frac{t^2-2t}{(t-1)^2}, \\\\\n",
    "   x_{t}=\\frac{-t^2-1}{(t^2-1)^2} \n",
    " \\end{cases}\\Rightarrow\n",
    " y'_{x}=\\frac{y'_{t}}{x_{t}}=\\frac{t^2-2t}{(t-1)^2}\\cdot \\frac{(t^2-1)^2}{-t^2-1}=-\\frac{(t^2-2t)(t+1)^2}{t^2+1}$$"
   ]
  },
  {
   "cell_type": "markdown",
   "metadata": {},
   "source": [
    "3. Найти производную с помощью логарифмирования:\n",
    "\n",
    "$$y=(x^2+2)^5\\cdot(3x-x^3)^3$$\n",
    "\n",
    "$$y'=f(x)\\cdot (\\ln f(x))'$$\n",
    "\n",
    "$$y'=(x^2+2)^5\\cdot(3x-x^3)^3\\cdot\\Bigr(\\frac{5\\cdot2x}{x^2+2}+\\frac{3\\cdot(3-3x^2)}{3x-x^3}\\Bigl) =\\\\= (x^2+2)^5\\cdot(3x-x^3)^3 \\cdot \\frac{10x(3x-x^3) + (9 -9x^2)(x^2+2)}{(x^2+2)(3x-x^3)} =\\\\= (x^2+2)^5\\cdot(3x-x^3)^3 \\cdot (30x^2 - 10x^4 + 9x^2 + 18 -9x^4 - 18x^2) =\\\\ = (x^2+2)^5\\cdot(3x-x^3)^3 \\cdot (21x^2 - 19x^4 + 18)$$"
   ]
  },
  {
   "cell_type": "markdown",
   "metadata": {},
   "source": [
    "4. Найти производную функции с помощью логарифмирования:\n",
    "\n",
    "$$y=x^x$$\n",
    "\n",
    "$$y'=f(x)\\cdot (\\ln f(x))'$$\n",
    "\n",
    "$$y'=x^x\\cdot\\Bigr(x\\cdot\\ln x\\Bigl)'=x^x\\cdot\\Bigr(1\\cdot\\ln x+x\\cdot\\frac{1}{x}\\Bigl)=x^x\\cdot\\Bigr(\\ln x+1\\Bigl)$$"
   ]
  },
  {
   "cell_type": "markdown",
   "metadata": {},
   "source": [
    "5. Найти производную функции с помощью логарифмирования:\n",
    "\n",
    "$$y=\\frac{(2-x^2)^3\\cdot(x-1)^2}{(2x^3-3x)\\cdot e^x} = \\\\ = \\frac{(2-x^2)^3\\cdot(x-1)^2}{(2x^3-3x)\\cdot e^x} \\cdot (3ln(2-x^2) + 2ln(x-1) - ln(2x^3-3x) - xlne)' = \\\\ y'=\\frac{(2-x^2)^3\\cdot(x-1)^2}{(2x^3-3x)\\cdot e^x} \\cdot \\left(\\frac{-6x}{2-x^2} + \\frac{2}{x-1} - \\frac{6x^2-3}{2x^3-3x} - 1\\right)$$"
   ]
  },
  {
   "cell_type": "markdown",
   "metadata": {},
   "source": [
    "### Задание из презентации"
   ]
  },
  {
   "cell_type": "markdown",
   "metadata": {},
   "source": [
    "1. Найти длину $𝑥$ и ширину $𝑦$ прямоугольника при заданном периметре $𝑃=144$ cм, при которых данный прямоугольник имеет наибольшую площадь $𝑆$."
   ]
  },
  {
   "cell_type": "markdown",
   "metadata": {},
   "source": [
    "$$P = 2(x + y)$$"
   ]
  },
  {
   "cell_type": "markdown",
   "metadata": {},
   "source": [
    "$$S = x \\cdot y $$"
   ]
  },
  {
   "cell_type": "markdown",
   "metadata": {},
   "source": [
    "$$P = 2(x + y)=144 \\Rightarrow P = x + y = 72 \\Rightarrow y = 72-x$$"
   ]
  },
  {
   "cell_type": "markdown",
   "metadata": {},
   "source": [
    "$$S = x \\cdot y \\Rightarrow S=x \\cdot (72-x)=72x-x^2$$\n",
    "$$S' = 72-2x$$\n",
    "$$Экстремумы:\n",
    "S' = 72-2x=0 \\Rightarrow x = 36$$\n",
    "при x=36 площать прямоугольника максимальная.\n",
    "$$y = 72-36 = 36 $$"
   ]
  },
  {
   "attachments": {},
   "cell_type": "markdown",
   "metadata": {},
   "source": [
    "2. Найти экстремумы функций (если они есть)"
   ]
  },
  {
   "cell_type": "markdown",
   "metadata": {},
   "source": [
    "a) $$y=|2x|$$\n",
    "\n",
    "$$y'=2\\cdot \\frac x{|x|}=0$$\n",
    "\n",
    "$$x=0$$\n",
    "\n",
    "$$f'(-1)=2\\cdot \\frac {-1}{|-1|}=-2\\ <0$$\n",
    "\n",
    "$$f'(1)=2\\cdot \\frac {1}{|1|}=2\\ >0$$\n",
    "\n",
    "$$Функция \\ имеет \\ минимум \\ при \\ x=0$$"
   ]
  },
  {
   "cell_type": "markdown",
   "metadata": {},
   "source": [
    "b)$$y=x^3$$\n",
    "\n",
    "$$y'=3x^2=0$$\n",
    "\n",
    "$$x=0$$\n",
    "\n",
    "$$f'(-1)=3$$\n",
    "\n",
    "$$f'(1)=3$$\n",
    "\n",
    "$$Функция \\ монотонно \\ возрастает$$"
   ]
  },
  {
   "cell_type": "markdown",
   "metadata": {},
   "source": [
    "c)$$y=e^{3x}$$\n",
    "\n",
    "$$y'=3e^{3x}= 0 - не \\ существует$$\n",
    "\n",
    "$$f'(-1)=3e^{-3}=\\frac 3{e^3}$$\n",
    "\n",
    "$$f'(1)=3e^{3}$$ \n",
    "\n",
    "$$Функция \\ монотонно \\ возрастает$$"
   ]
  },
  {
   "cell_type": "markdown",
   "metadata": {},
   "source": [
    "d) $$y=x^3-5x$$\n",
    "\n",
    "$$y'=3x^2-5=0$$\n",
    "\n",
    "$$x=\\pm \\sqrt{\\frac 5{3}}$$\n",
    "\n",
    "$$f'(-2)=7$$\n",
    "\n",
    "$$f'(-1)=-2$$\n",
    "\n",
    "$$f'(1)=-2$$\n",
    "\n",
    "$$f'(2)=7$$\n",
    "\n",
    "$$Функция \\ имеет \\ 2 \\ экстремума: \\ максимум \\ при \\ x=-\\sqrt{\\frac 5{3}} \\ и \\ минимум \\ при \\ x=\\sqrt{\\frac 5{3}}$$"
   ]
  }
 ],
 "metadata": {
  "kernelspec": {
   "display_name": "Python 3",
   "language": "python",
   "name": "python3"
  },
  "language_info": {
   "codemirror_mode": {
    "name": "ipython",
    "version": 3
   },
   "file_extension": ".py",
   "mimetype": "text/x-python",
   "name": "python",
   "nbconvert_exporter": "python",
   "pygments_lexer": "ipython3",
   "version": "3.9.1"
  }
 },
 "nbformat": 4,
 "nbformat_minor": 4
}
