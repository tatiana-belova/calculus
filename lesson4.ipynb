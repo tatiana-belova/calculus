{
 "cells": [
  {
   "cell_type": "code",
   "execution_count": 3,
   "metadata": {},
   "outputs": [],
   "source": [
    "import numpy as np"
   ]
  },
  {
   "cell_type": "markdown",
   "metadata": {},
   "source": [
    "## Урок 4. Предел функции. Часть 1"
   ]
  },
  {
   "cell_type": "markdown",
   "metadata": {},
   "source": [
    "1. Найти предел последовательности:"
   ]
  },
  {
   "cell_type": "markdown",
   "metadata": {},
   "source": [
    "$$а)\\,\\,\\,\\,\\lim_{x\\to 6} \\frac{x^2-36}{x^2-x-30} = \\Bigl[\\frac{0}{0}\\Bigl] = \\lim_{x\\to 6} \\frac{(x-6)(x+6)}{(x-6)(x+5)} = \\frac{12}{11}$$"
   ]
  },
  {
   "cell_type": "markdown",
   "metadata": {},
   "source": [
    "$$б)\\,\\,\\,\\,\\lim_{x\\to 7} \\frac{x^2-49}{x^2-13x+42} = \\Bigl[\\frac{0}{0}\\Bigl] = \\lim_{x\\to 7} \\frac{(x-7)(x+7)}{(x-7)(x-6)} = \\frac{14}{1} = 14$$"
   ]
  },
  {
   "cell_type": "markdown",
   "metadata": {},
   "source": [
    "$$в^*)\\,\\,\\,\\,\\lim_{x\\to 7} \\frac{\\sqrt{x+2}-\\sqrt[3]{x+20}}{\\sqrt[4]{x+9}-2} = \\lim_{x \\to 7}\\frac{{\\sqrt {7 + 2}  - \\sqrt[3]{{7 + 20}}}}{{\\sqrt[4]{{7 + 9}} - 2}}\\ = \\Bigl[\\frac{0}{0}\\Bigl]$$"
   ]
  },
  {
   "cell_type": "markdown",
   "metadata": {},
   "source": [
    "$$г)\\,\\,\\,\\,\\lim_{x\\to 0} \\frac{3x\\,\\mbox{tg}\\,4x}{1-\\cos4x} = \\lim_{x\\to 0} \\frac{3x\\cdot 4x}{2sin^2{2x}} = \\lim_{x\\to 0} \\frac{4x^2}{sin^22x} \\cdot\\frac{3}{2} = \\lim_{x\\to 0} \\frac{4x^2}{4x^2} \\cdot\\frac{3}{2} = \\frac{3}{2}$$"
   ]
  },
  {
   "cell_type": "markdown",
   "metadata": {},
   "source": [
    "$$д^{**})\\,\\,\\,\\,\\lim_{x\\to 0} \\frac{\\sqrt2x^2\\sin4x}{(1-\\cos2x)^{\\frac{3}{2}}} = \\lim_{x\\to 0} \\frac{\\sqrt2x^2\\cdot 4x}{(1-\\cos2x)\\cdot \\sqrt{(1-\\cos2x)}} = \\lim_{x\\to 0} \\frac{\\sqrt2x^2\\cdot 4x}{2sin^2x\\cdot \\sqrt{(2sin^2x)}} = \\lim_{x\\to 0} \\frac{\\sqrt2x^2\\cdot 2x}{sin^2x\\cdot \\sqrt{2}sinx} = 2 \\cdot 1^2 \\cdot 1 = 2$$"
   ]
  },
  {
   "cell_type": "markdown",
   "metadata": {},
   "source": [
    "$$е)\\,\\,\\,\\,\\lim_{x\\to \\infty} \\Bigr(\\frac{4x}{4x+3}\\Bigl)^\\frac{5x^2}{7x-1} = \\lim_{x\\to \\infty} e^{\\Bigl(\\frac{4x}{4x+3} - 1 \\Bigr) \\cdot \\frac{5x^2}{7x-1}} = \\lim_{x\\to \\infty} e^{\\Bigl(-\\frac{3}{4x+3} \\Bigr) \\cdot \\frac{5x^2}{7x-1}} = \\lim_{x\\to \\infty} e^{\\frac{-15x^2}{28x^2+17x-3}} = e^{-\\frac{15}{28}}$$"
   ]
  },
  {
   "cell_type": "markdown",
   "metadata": {},
   "source": [
    "$$з^*)\\,\\,\\,\\,\\lim_{x\\to +\\infty} \\frac{\\ln(x^2-x+1)}{\\ln(x^{10}+x+1)} = \\lim_{x\\to +\\infty} \\frac{(\\ln(x^2-x+1))'}{(\\ln(x^{10}+x+1))'} = \\lim_{x\\to +\\infty} \\frac{\\frac{1}{x} (2x -1)}{\\frac{1}{x} (10x^9 -1)} = \\lim_{x\\to +\\infty} \\frac{2x -1}{10x^9 -1} = 0$$"
   ]
  }
 ],
 "metadata": {
  "kernelspec": {
   "display_name": "Python 3",
   "language": "python",
   "name": "python3"
  },
  "language_info": {
   "codemirror_mode": {
    "name": "ipython",
    "version": 3
   },
   "file_extension": ".py",
   "mimetype": "text/x-python",
   "name": "python",
   "nbconvert_exporter": "python",
   "pygments_lexer": "ipython3",
   "version": "3.9.1"
  }
 },
 "nbformat": 4,
 "nbformat_minor": 4
}
